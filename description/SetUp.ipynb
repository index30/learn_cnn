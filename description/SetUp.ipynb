{
 "cells": [
  {
   "cell_type": "markdown",
   "metadata": {},
   "source": [
    "# 機械学習を行うための環境構築(仮)\n",
    "- macOSの場合  \n",
    "各々の環境で必要なもの、不必要なものがあると思うのですが、大体この流れに沿うと導入しやすいと思います  \n",
    "\n",
    "\n",
    "1.Homebrewのインストール  \n",
    "https://brew.sh/index_ja.html  \n",
    "2.Python3のインストール\n",
    "\n",
    "```\n",
    "$ brew install python3\n",
    "```"
   ]
  },
  {
   "cell_type": "markdown",
   "metadata": {},
   "source": [
    "3.pip3 からvirtualenvをインストール\n",
    "\n",
    "```\n",
    "$ pip3 install virtualenv\n",
    "```"
   ]
  },
  {
   "cell_type": "markdown",
   "metadata": {},
   "source": [
    "4.作業したいディレクトリに対して以下を実行\n",
    "\n",
    "```\n",
    "$ virtualenv -p python3 (作業したいディレクトリ名)\n",
    "```"
   ]
  },
  {
   "cell_type": "markdown",
   "metadata": {},
   "source": [
    "5.作業したいディレクトリに移動し、仮想環境を起動\n",
    "\n",
    "```\n",
    "$ cd (作業したいディレクトリ名)\n",
    "$ source bin/activate\n",
    "```"
   ]
  },
  {
   "cell_type": "markdown",
   "metadata": {},
   "source": [
    "6.適宜必要なライブラリをpipを通してインストール  \n",
    "(なお、ディレクトリを別に変える時などはdeactivateして仮想環境を解除すること)  \n",
    "現状用いる\n",
    "- numpy\n",
    "- scipy\n",
    "- matplotlib\n",
    "- jupyter  \n",
    "\n",
    "などは全てpipで入ります"
   ]
  }
 ],
 "metadata": {
  "kernelspec": {
   "display_name": "Python 3",
   "language": "python",
   "name": "python3"
  },
  "language_info": {
   "codemirror_mode": {
    "name": "ipython",
    "version": 3
   },
   "file_extension": ".py",
   "mimetype": "text/x-python",
   "name": "python",
   "nbconvert_exporter": "python",
   "pygments_lexer": "ipython3",
   "version": "3.6.1"
  }
 },
 "nbformat": 4,
 "nbformat_minor": 2
}
