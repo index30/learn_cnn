{
 "cells": [
  {
   "cell_type": "markdown",
   "metadata": {},
   "source": [
    "# CNNチュートリアル(keras)\n",
    "MNISTを用いた簡単なチュートリアルについて説明します  \n",
    "わからない部分や間違ってると感じた部分については質問してください  \n",
    "なお、関連記事は大量にあるため、そちらの方も調べていただけるとより理解が増すと思います\n",
    "\n",
    "## 実行環境\n",
    "- macOS Sierra\n",
    "- python3.6\n",
    "- pip3\n",
    "\n",
    "## 必要なライブラリのインポート"
   ]
  },
  {
   "cell_type": "code",
   "execution_count": 19,
   "metadata": {},
   "outputs": [],
   "source": [
    "import glob\n",
    "import os\n",
    "import os.path\n",
    "from keras.datasets import mnist\n",
    "from keras.layers import MaxPooling2D, Activation, Dropout, Flatten, Dense\n",
    "from keras.layers.convolutional import Conv2D\n",
    "from keras.models import Sequential\n",
    "from keras.preprocessing.image import ImageDataGenerator, load_img, img_to_array\n",
    "from keras.utils import np_utils"
   ]
  },
  {
   "cell_type": "markdown",
   "metadata": {},
   "source": [
    "## モデルの実装\n",
    "扱うモデル, データは, tutorial_tensorflow(padding='SAME'の場合)と同様です  \n",
    "ただし, データはtensorflowではなくKeras経由でimportします  \n",
    "tensorflowの記述と比べてシンプルに記述できることがわかると思います"
   ]
  },
  {
   "cell_type": "code",
   "execution_count": 32,
   "metadata": {},
   "outputs": [
    {
     "name": "stdout",
     "output_type": "stream",
     "text": [
      "_________________________________________________________________\n",
      "Layer (type)                 Output Shape              Param #   \n",
      "=================================================================\n",
      "conv2d_19 (Conv2D)           (None, 26, 26, 32)        320       \n",
      "_________________________________________________________________\n",
      "activation_37 (Activation)   (None, 26, 26, 32)        0         \n",
      "_________________________________________________________________\n",
      "max_pooling2d_19 (MaxPooling (None, 13, 13, 32)        0         \n",
      "_________________________________________________________________\n",
      "conv2d_20 (Conv2D)           (None, 11, 11, 64)        18496     \n",
      "_________________________________________________________________\n",
      "activation_38 (Activation)   (None, 11, 11, 64)        0         \n",
      "_________________________________________________________________\n",
      "max_pooling2d_20 (MaxPooling (None, 5, 5, 64)          0         \n",
      "_________________________________________________________________\n",
      "flatten_10 (Flatten)         (None, 1600)              0         \n",
      "_________________________________________________________________\n",
      "dense_19 (Dense)             (None, 1024)              1639424   \n",
      "_________________________________________________________________\n",
      "activation_39 (Activation)   (None, 1024)              0         \n",
      "_________________________________________________________________\n",
      "dropout_10 (Dropout)         (None, 1024)              0         \n",
      "_________________________________________________________________\n",
      "dense_20 (Dense)             (None, 10)                10250     \n",
      "_________________________________________________________________\n",
      "activation_40 (Activation)   (None, 10)                0         \n",
      "=================================================================\n",
      "Total params: 1,668,490\n",
      "Trainable params: 1,668,490\n",
      "Non-trainable params: 0\n",
      "_________________________________________________________________\n"
     ]
    }
   ],
   "source": [
    "TRAIN_DATA_SIZE = 100\n",
    "TEST_DATA_SIZE = 100\n",
    "BATCH_SIZE = 30\n",
    "EPOCHS = 20\n",
    "IMAGE_SIZE = 28\n",
    "\n",
    "model = Sequential()\n",
    "\n",
    "# 第一層\n",
    "model.add(Conv2D(32, (3, 3), input_shape=(28, 28, 1)))\n",
    "model.add(Activation('relu'))\n",
    "model.add(MaxPooling2D(pool_size=(2, 2)))\n",
    "\n",
    "# 第二層\n",
    "model.add(Conv2D(64, (3, 3)))\n",
    "model.add(Activation('relu'))\n",
    "model.add(MaxPooling2D(pool_size=(2, 2)))\n",
    "\n",
    "# 全結合層\n",
    "model.add(Flatten())\n",
    "model.add(Dense(1024))\n",
    "model.add(Activation('relu'))\n",
    "model.add(Dropout(0.5))\n",
    "model.add(Dense(10))\n",
    "model.add(Activation('softmax'))\n",
    "\n",
    "# 作成したモデルを表示\n",
    "model.summary()\n",
    "\n",
    "# 誤差関数と最適化を加えてコンパイル\n",
    "model.compile(loss='categorical_crossentropy',\n",
    "               optimizer='adam',\n",
    "               metrics=['accuracy'])"
   ]
  },
  {
   "cell_type": "markdown",
   "metadata": {},
   "source": [
    "## データの読み込み\n",
    "この辺りはデータを読み込むことのできる形式に変換するためのコードになります  \n",
    "reshapeの部分は, reshape(枚数, height, width, channel)と指定して変形を行います"
   ]
  },
  {
   "cell_type": "code",
   "execution_count": 33,
   "metadata": {},
   "outputs": [],
   "source": [
    " # MNISTの読み込み\n",
    "(X_train, y_train), (X_test, y_test) = mnist.load_data()\n",
    "\n",
    "# 配列の整形と，色の範囲を0-255 -> 0-1に変換\n",
    "X_train = X_train.reshape(60000, 28, 28, 1) / 255\n",
    "X_test = X_test.reshape(10000, 28, 28, 1) / 255\n",
    "\n",
    "# one-hot表現にする\n",
    "y_train = np_utils.to_categorical(y_train)\n",
    "y_test = np_utils.to_categorical(y_test)"
   ]
  },
  {
   "cell_type": "markdown",
   "metadata": {},
   "source": [
    "## 学習, 予測\n",
    "あとはデータを学習させ、テストデータに対して予測を行います  \n",
    "学習のepoc数などに関しては統一していないためtensorflowの精度と差がありますが、ほとんど同じ精度で実装されます"
   ]
  },
  {
   "cell_type": "code",
   "execution_count": 34,
   "metadata": {},
   "outputs": [
    {
     "name": "stdout",
     "output_type": "stream",
     "text": [
      "Train on 54000 samples, validate on 6000 samples\n",
      "Epoch 1/3\n",
      "54000/54000 [==============================] - 66s 1ms/step - loss: 0.2336 - acc: 0.9291 - val_loss: 0.0513 - val_acc: 0.9850\n",
      "Epoch 2/3\n",
      "54000/54000 [==============================] - 63s 1ms/step - loss: 0.0589 - acc: 0.9818 - val_loss: 0.0357 - val_acc: 0.9897\n",
      "Epoch 3/3\n",
      "54000/54000 [==============================] - 64s 1ms/step - loss: 0.0430 - acc: 0.9863 - val_loss: 0.0391 - val_acc: 0.9900\n",
      "10000/10000 [==============================] - 5s 459us/step\n",
      "\n",
      "test accuracy :  0.9885\n"
     ]
    }
   ],
   "source": [
    "hist = model.fit(X_train, y_train, batch_size=200, verbose=1, epochs=3, validation_split=0.1)\n",
    "\n",
    "# 予測\n",
    "score = model.evaluate(X_test, y_test, verbose=1)\n",
    "print(\"\")\n",
    "print('test accuracy : ', score[1])"
   ]
  }
 ],
 "metadata": {
  "kernelspec": {
   "display_name": "Python 3",
   "language": "python",
   "name": "python3"
  },
  "language_info": {
   "codemirror_mode": {
    "name": "ipython",
    "version": 3
   },
   "file_extension": ".py",
   "mimetype": "text/x-python",
   "name": "python",
   "nbconvert_exporter": "python",
   "pygments_lexer": "ipython3",
   "version": "3.6.1"
  }
 },
 "nbformat": 4,
 "nbformat_minor": 2
}
